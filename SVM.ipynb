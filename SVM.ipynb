{
 "cells": [
  {
   "cell_type": "code",
   "execution_count": 1,
   "metadata": {},
   "outputs": [
    {
     "name": "stderr",
     "output_type": "stream",
     "text": [
      "C:\\Users\\Nikhil Mysore\\AppData\\Local\\Continuum\\Anaconda3\\lib\\site-packages\\gensim\\utils.py:1197: UserWarning: detected Windows; aliasing chunkize to chunkize_serial\n",
      "  warnings.warn(\"detected Windows; aliasing chunkize to chunkize_serial\")\n"
     ]
    }
   ],
   "source": [
    "#Basic Text Analysis of the comments made in the New York Times using Support Vector Machine(SVM).\n",
    "import numpy as np\n",
    "import gensim\n",
    "import csv\n",
    "import sys,os\n",
    "import matplotlib.pyplot as plt\n",
    "import seaborn as sns\n",
    "import pandas as pd\n",
    "from sklearn.cluster import KMeans\n",
    "from sklearn.feature_extraction import text\n",
    "from sklearn import svm\n",
    "from sklearn.metrics import normalized_mutual_info_score as nmi\n",
    "from sklearn.metrics import accuracy_score\n",
    "import json\n",
    "from nltk.corpus import stopwords\n",
    "from nltk.tokenize import word_tokenize\n",
    "import string\n",
    "from nltk.stem import PorterStemmer\n",
    "import nltk\n",
    "from nltk.tokenize import wordpunct_tokenize\n",
    "from sklearn.datasets import load_digits\n",
    "%matplotlib inline"
   ]
  },
  {
   "cell_type": "code",
   "execution_count": 2,
   "metadata": {
    "collapsed": true
   },
   "outputs": [],
   "source": [
    "#Reading the CSV File \n",
    "data1= pd.read_excel(\"Feb2017.xlsx\")"
   ]
  },
  {
   "cell_type": "code",
   "execution_count": 5,
   "metadata": {},
   "outputs": [],
   "source": [
    "#Creating dataframes for comments made in Feb 2017(comment body) and the comment \n",
    "document_comments_text = data1['commentBody']\n",
    "document_comments_label=data1['sectionName']"
   ]
  },
  {
   "cell_type": "code",
   "execution_count": 6,
   "metadata": {},
   "outputs": [],
   "source": [
    "#Removing the stopwords from the Datset\n",
    "sample1 = document_comments_text.apply(lambda x: [item for item in x if item not in stopwords.words(\"english\")])"
   ]
  },
  {
   "cell_type": "code",
   "execution_count": 7,
   "metadata": {
    "collapsed": true
   },
   "outputs": [],
   "source": [
    "new_documents=sample1.apply(lambda x : \"\".join(x))"
   ]
  },
  {
   "cell_type": "code",
   "execution_count": 8,
   "metadata": {},
   "outputs": [
    {
     "data": {
      "text/plain": [
       "0      ANY n Trup prpgn fr Gg n  TV ge ff eel n I wll...\n",
       "1      I'll n wch he SB, nr he gr r cr.  The enernen ...\n",
       "2      NFL' gng   nher \"n-ur-fce, Aerc\" Super Bwl hlf...\n",
       "3      I' cnnull ze  he ll-plce creence ffre prl r un...\n",
       "4      Pernll, I  n wn  ee n plc  ll urng  ge fr he l...\n",
       "5      Kepernck n h fellw ple punk w he l rw fr e,  w...\n",
       "6                                        I' e - Dn' wch.\n",
       "7      Lef NFL ch ee eerne  nger he eve NFL fn n  een...\n",
       "8                                   Plc  b fr pr, per.  \n",
       "9      I wn' be wchng, ju lke he re f he en.  I w n v...\n",
       "10                          rger hul reeber wh wche fbll\n",
       "11     Hw up re he? The NFL  lre eeng  rp n revenue b...\n",
       "12     Ye, le' ll ju huffle h uff  he e, weep  uner h...\n",
       "13     Yu e ennng he \"elephn n he r\" plcl pec f he Su...\n",
       "14     Cn u gne Rger G kng n kn f cen, h gu   l, eve ...\n",
       "15     110 lln peple wll be wchng bu 3 e h wul wch he...\n",
       "16     The NFL  eperel rng  prve   n pr f he lberl e ...\n",
       "17     Plen f u lberl lke  wch he Super Bwl , bu hnk ...\n",
       "18     I n' unern wh  hw bu fur fele fren  crcze fr  ...\n",
       "19     Fr, I ju wne  , h I expece rue cen becue he hw...\n",
       "20     I  regr Dunh' wrk wh rn. Grl h been  prvcve n ...\n",
       "21     ju ne hng - Dunh' b  wh  fun hrughu weern r,  ...\n",
       "22     I e wh he hw fr 4 en n hen, ju fel wrn wn b he...\n",
       "23     I gue I' luck. bu 've never h uch wkwr, ugl, u...\n",
       "24     I v  TV n wul lke  ee re ver n wh I  wch, bu I...\n",
       "25     Ww! <br/><br/>M everne n h cen ecn ee  hve bru...\n",
       "26     Ku  he wrer f hee n-e. The ecrbe he hw pre wel...\n",
       "27     In  w I wh h Grl  hve  lugh rck. If ken  rgh-u...\n",
       "28     I'  g n lvng n he uh,  I' n lkel he rgee egrph...\n",
       "29     I rell enje Grl, n pprece bh hw fferen hng re ...\n",
       "                             ...                        \n",
       "169    I fen wner f he e eclne n he qul f Mr. DeNr' u...\n",
       "170    I n' knw fr h revew wheher h  ju  b ve r f De ...\n",
       "171    Depe h ur revew I' eger n nxu  ee De Nr' new v...\n",
       "172                              Wh n ne wr n Dnn DeV?  \n",
       "173    Rber De Nr ppe \"generng g wll,\" wh e,  le, whe...\n",
       "174    Mnhl nl  here n her revew wh ne excepn. Lele M...\n",
       "175    M. Drg' revew f \"The Cen\"  rgh-n.<br/>A preve ...\n",
       "176                            Th   frulc  be  ueful crc\n",
       "177    If h ve  nene  n exnn f  n-up cc' eclnng frune...\n",
       "178    \"'Punxuwne Phl  he nl rue weher frecng grunhg,...\n",
       "179                Nce g, bu he lr pnel re kn f ver-ng .\n",
       "180    Fr f ll. Nce cle-up f he Grunhg. The nl re epe...\n",
       "181    NYT cnnue her feverh que  erce he culne  prnun...\n",
       "182                                        Knck bcker Ne\n",
       "183                                       She  l he cue!\n",
       "184    I' fr Prre Dg . Th wul brng enn  he fc h he Bl...\n",
       "185    \"An elegn publc ppernce\".<br/>Y, nher excue fr...\n",
       "186    Whle pg? Th'  new ne--u rul  lern ehng new eve...\n",
       "187    I re h feelng f beng n n he verwhelng pwer f h...\n",
       "188    The rncenence ecrbe b he uhr n h nve n ll e wl...\n",
       "189                      Gre r....ke e wn  he bck here !\n",
       "190    I  he expure f ur chlren  Nure' wner, ever  we...\n",
       "191    There  gre helng when we ener he wer. We le eh...\n",
       "192    I lve n Ku n er fer er, re bu ccenl rwnng fr p...\n",
       "193    1. eh, f u re whe/hwl,  wul n recen rng  \"w wh...\n",
       "194    T w<br/> brehe<br/>wh eleenl ee<br/><br/>T bhe...\n",
       "195    S uch f he cle  hre crl h e h p er n Mu.  Our ...\n",
       "196    In  fl bu  1960-70 Ku' nrh hre hppe vlllge cll...\n",
       "197    Thnk fr he ere!  I lve  he f f Dn He fr 8 er, ...\n",
       "198    Thnk u fr he lvel rcle.  Afer grung fr cllege,...\n",
       "Name: commentBody, dtype: object"
      ]
     },
     "execution_count": 8,
     "metadata": {},
     "output_type": "execute_result"
    }
   ],
   "source": [
    "new_documents"
   ]
  },
  {
   "cell_type": "code",
   "execution_count": 9,
   "metadata": {
    "collapsed": true
   },
   "outputs": [],
   "source": [
    "#Print the average document length for the datset.\n",
    "def average_length(document_text):\n",
    "    length_list=[]\n",
    "    for text in document_text:\n",
    "        text_list=text.strip().split()\n",
    "        length_list.append(len(text_list))\n",
    "    return(sum(length_list)/len(length_list))"
   ]
  },
  {
   "cell_type": "code",
   "execution_count": 20,
   "metadata": {},
   "outputs": [
    {
     "name": "stdout",
     "output_type": "stream",
     "text": [
      "Average Length of text used for comments :62.824120603015075\n"
     ]
    }
   ],
   "source": [
    "print(\"Average Length of text used for comments :{}\".format(average_length(new_documents)))"
   ]
  },
  {
   "cell_type": "code",
   "execution_count": 11,
   "metadata": {
    "collapsed": true
   },
   "outputs": [],
   "source": [
    "#Printing a list of all the words in the dataset.\n",
    "def join_list(doc_text):\n",
    "    word_list=[]\n",
    "    for doc in doc_text:\n",
    "        doc_list=doc.strip().split()\n",
    "        word_list.extend(doc_list)\n",
    "        return word_list"
   ]
  },
  {
   "cell_type": "code",
   "execution_count": 12,
   "metadata": {
    "collapsed": true
   },
   "outputs": [],
   "source": [
    "#Now, we focus on how to represent the data and get the BOW(Bag of words model for the document data )\n",
    "vectorizer1 = text.CountVectorizer()"
   ]
  },
  {
   "cell_type": "code",
   "execution_count": 13,
   "metadata": {
    "collapsed": true
   },
   "outputs": [],
   "source": [
    "new_documents_bow = vectorizer1.fit_transform(new_documents)"
   ]
  },
  {
   "cell_type": "code",
   "execution_count": 14,
   "metadata": {
    "collapsed": true
   },
   "outputs": [],
   "source": [
    "#Getting the TF-IDF representation for the document data\n",
    "tfidf_vectorizer1 = text.TfidfVectorizer()"
   ]
  },
  {
   "cell_type": "code",
   "execution_count": 15,
   "metadata": {
    "collapsed": true
   },
   "outputs": [],
   "source": [
    "new_documents_tfidf = tfidf_vectorizer1.fit_transform(new_documents)"
   ]
  },
  {
   "cell_type": "code",
   "execution_count": 18,
   "metadata": {},
   "outputs": [
    {
     "name": "stdout",
     "output_type": "stream",
     "text": [
      "Comments vector size:(199, 2106)\n"
     ]
    }
   ],
   "source": [
    "#Printing the shape of the BOW representation for the dataset\n",
    "print(\"Comments vector size:{}\".format(new_documents_bow.get_shape()))"
   ]
  },
  {
   "cell_type": "code",
   "execution_count": 19,
   "metadata": {},
   "outputs": [
    {
     "name": "stdout",
     "output_type": "stream",
     "text": [
      "Comments vector size:(199, 2106)\n"
     ]
    }
   ],
   "source": [
    "#Printing the shape of the TF-IDF represenation for the dataset\n",
    "print(\"Comments vector size:{}\".format(new_documents_tfidf.get_shape()))"
   ]
  },
  {
   "cell_type": "code",
   "execution_count": 21,
   "metadata": {
    "collapsed": true
   },
   "outputs": [],
   "source": [
    "#We now conduct an SVM Analysis on the Dataset. We choose 80% of the data as our training data and 20% of our data as test data\n",
    "def svm_classification(doc_vector,doc_label):\n",
    "    #Training 80% of our data \n",
    "    random_index=np.random.choice(len(doc_label),int(0.8*len(doc_label)),replace=False)\n",
    "    svm_classify=svm.LinearSVC()\n",
    "    #Training the classification model\n",
    "    svm_classify.fit(doc_vector[random_index],np.array(doc_label)[random_index])\n",
    "    #Predicting the next 20% of our data,First create an index for the data\n",
    "    data_index= np.arange(0,len(doc_label))\n",
    "    #Find the Index for the test data\n",
    "    test_index=np.array([i for i in data_index if i not in random_index])\n",
    "    pred_label = svm_classify.predict(doc_vector[test_index])\n",
    "    accuracy=accuracy_score(np.array(doc_label)[test_index],pred_label)\n",
    "    return accuracy"
   ]
  },
  {
   "cell_type": "code",
   "execution_count": 22,
   "metadata": {},
   "outputs": [
    {
     "name": "stdout",
     "output_type": "stream",
     "text": [
      "#0round\n",
      "#1round\n",
      "#2round\n",
      "#3round\n",
      "#4round\n"
     ]
    }
   ],
   "source": [
    "#We use the BOW(Bag of Words) representation for training SVM\n",
    "accuracy_score_bow = pd.DataFrame(columns=[\"dataset\",\"Accuracy Score\"])\n",
    "for i in range(5):\n",
    "    print(\"#{}round\".format(i))\n",
    "    new_documents_accuracy=svm_classification(new_documents_bow.toarray(),document_comments_label)\n",
    "    accuracy_score_bow.loc[len(accuracy_score_bow)]=[\"Comments\",new_documents_accuracy]"
   ]
  },
  {
   "cell_type": "code",
   "execution_count": 23,
   "metadata": {},
   "outputs": [
    {
     "data": {
      "text/plain": [
       "<matplotlib.axes._subplots.AxesSubplot at 0x2b296cda898>"
      ]
     },
     "execution_count": 23,
     "metadata": {},
     "output_type": "execute_result"
    },
    {
     "data": {
      "image/png": "[encoded data removed]",
      "text/plain": [
       "<matplotlib.figure.Figure at 0x2b296c89a58>"
      ]
     },
     "metadata": {},
     "output_type": "display_data"
    }
   ],
   "source": [
    "sns.barplot(x=\"dataset\",y=\"Accuracy Score\",data=accuracy_score_bow,palette=\"Blues_d\")"
   ]
  },
  {
   "cell_type": "code",
   "execution_count": 24,
   "metadata": {},
   "outputs": [
    {
     "data": {
      "text/html": [
       "<div>\n",
       "<table border=\"1\" class=\"dataframe\">\n",
       "  <thead>\n",
       "    <tr style=\"text-align: right;\">\n",
       "      <th></th>\n",
       "      <th>dataset</th>\n",
       "      <th>Accuracy Score</th>\n",
       "    </tr>\n",
       "  </thead>\n",
       "  <tbody>\n",
       "    <tr>\n",
       "      <th>0</th>\n",
       "      <td>Comments</td>\n",
       "      <td>0.775</td>\n",
       "    </tr>\n",
       "    <tr>\n",
       "      <th>1</th>\n",
       "      <td>Comments</td>\n",
       "      <td>0.850</td>\n",
       "    </tr>\n",
       "    <tr>\n",
       "      <th>2</th>\n",
       "      <td>Comments</td>\n",
       "      <td>0.750</td>\n",
       "    </tr>\n",
       "    <tr>\n",
       "      <th>3</th>\n",
       "      <td>Comments</td>\n",
       "      <td>0.750</td>\n",
       "    </tr>\n",
       "    <tr>\n",
       "      <th>4</th>\n",
       "      <td>Comments</td>\n",
       "      <td>0.775</td>\n",
       "    </tr>\n",
       "  </tbody>\n",
       "</table>\n",
       "</div>"
      ],
      "text/plain": [
       "    dataset  Accuracy Score\n",
       "0  Comments           0.775\n",
       "1  Comments           0.850\n",
       "2  Comments           0.750\n",
       "3  Comments           0.750\n",
       "4  Comments           0.775"
      ]
     },
     "execution_count": 24,
     "metadata": {},
     "output_type": "execute_result"
    }
   ],
   "source": [
    "accuracy_score_bow"
   ]
  },
  {
   "cell_type": "code",
   "execution_count": 26,
   "metadata": {},
   "outputs": [
    {
     "name": "stdout",
     "output_type": "stream",
     "text": [
      "#0round\n",
      "#1round\n",
      "#2round\n",
      "#3round\n",
      "#4round\n"
     ]
    }
   ],
   "source": [
    "#Now, we use the TF-IDF represenation for training SVM\n",
    "accuracy_score_tfidf=pd.DataFrame(columns=[\"dataset\",\"Accuracy Score\"])\n",
    "for i in range(5):\n",
    "    print(\"#{}round\".format(i))\n",
    "    new_documents_accuracy=svm_classification(new_documents_tfidf.toarray(),document_comments_label)\n",
    "    accuracy_score_tfidf.loc[len(accuracy_score_tfidf)]=[\"Comments\",new_documents_accuracy]"
   ]
  },
  {
   "cell_type": "code",
   "execution_count": 27,
   "metadata": {},
   "outputs": [
    {
     "data": {
      "text/plain": [
       "<matplotlib.axes._subplots.AxesSubplot at 0x2b296dd85f8>"
      ]
     },
     "execution_count": 27,
     "metadata": {},
     "output_type": "execute_result"
    },
    {
     "data": {
      "image/png": "[encoded data removed]",
      "text/plain": [
       "<matplotlib.figure.Figure at 0x2b296cd9860>"
      ]
     },
     "metadata": {},
     "output_type": "display_data"
    }
   ],
   "source": [
    "sns.barplot(x=\"dataset\",y=\"Accuracy Score\",data=accuracy_score_tfidf,palette=\"Blues_d\")"
   ]
  },
  {
   "cell_type": "code",
   "execution_count": 28,
   "metadata": {},
   "outputs": [
    {
     "data": {
      "text/html": [
       "<div>\n",
       "<table border=\"1\" class=\"dataframe\">\n",
       "  <thead>\n",
       "    <tr style=\"text-align: right;\">\n",
       "      <th></th>\n",
       "      <th>dataset</th>\n",
       "      <th>Accuracy Score</th>\n",
       "    </tr>\n",
       "  </thead>\n",
       "  <tbody>\n",
       "    <tr>\n",
       "      <th>0</th>\n",
       "      <td>Comments</td>\n",
       "      <td>0.875</td>\n",
       "    </tr>\n",
       "    <tr>\n",
       "      <th>1</th>\n",
       "      <td>Comments</td>\n",
       "      <td>0.750</td>\n",
       "    </tr>\n",
       "    <tr>\n",
       "      <th>2</th>\n",
       "      <td>Comments</td>\n",
       "      <td>0.700</td>\n",
       "    </tr>\n",
       "    <tr>\n",
       "      <th>3</th>\n",
       "      <td>Comments</td>\n",
       "      <td>0.850</td>\n",
       "    </tr>\n",
       "    <tr>\n",
       "      <th>4</th>\n",
       "      <td>Comments</td>\n",
       "      <td>0.875</td>\n",
       "    </tr>\n",
       "  </tbody>\n",
       "</table>\n",
       "</div>"
      ],
      "text/plain": [
       "    dataset  Accuracy Score\n",
       "0  Comments           0.875\n",
       "1  Comments           0.750\n",
       "2  Comments           0.700\n",
       "3  Comments           0.850\n",
       "4  Comments           0.875"
      ]
     },
     "execution_count": 28,
     "metadata": {},
     "output_type": "execute_result"
    }
   ],
   "source": [
    "accuracy_score_tfidf"
   ]
  },
  {
   "cell_type": "code",
   "execution_count": null,
   "metadata": {
    "collapsed": true
   },
   "outputs": [],
   "source": []
  }
 ],
 "metadata": {
  "kernelspec": {
   "display_name": "Python 3",
   "language": "python",
   "name": "python3"
  },
  "language_info": {
   "codemirror_mode": {
    "name": "ipython",
    "version": 3
   },
   "file_extension": ".py",
   "mimetype": "text/x-python",
   "name": "python",
   "nbconvert_exporter": "python",
   "pygments_lexer": "ipython3",
   "version": "3.6.0"
  }
 },
 "nbformat": 4,
 "nbformat_minor": 2
}
